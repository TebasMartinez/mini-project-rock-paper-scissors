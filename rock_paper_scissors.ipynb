{
 "cells": [
  {
   "cell_type": "code",
   "execution_count": 45,
   "id": "801f3267-b6d4-4609-bf0b-5abd7536f058",
   "metadata": {},
   "outputs": [],
   "source": [
    "import random"
   ]
  },
  {
   "cell_type": "code",
   "execution_count": 46,
   "id": "f717444d-3050-47b9-b3dd-fa394c788fc8",
   "metadata": {},
   "outputs": [],
   "source": [
    "# The player can choose Rock, Paper, or Scissors.\n",
    "def playerchoice():\n",
    "    while True:\n",
    "        choice = input(\"Rock, Paper, or Scissors? \").lower()\n",
    "        if choice != \"rock\" and choice != \"paper\" and choice != \"scissors\":\n",
    "            print(\"Invalid input. Please choose Rock, Paper, or Scissors!\")\n",
    "        else:\n",
    "            break\n",
    "    return choice"
   ]
  },
  {
   "cell_type": "code",
   "execution_count": 47,
   "id": "2c5060ed-367f-4704-8cec-5e4ce3628302",
   "metadata": {},
   "outputs": [],
   "source": [
    "# The computer randomly selects one of the three options.\n",
    "def npcchoice():\n",
    "    choicenum = random.randint(1,3)\n",
    "    if choicenum == 1:\n",
    "        choice = \"rock\"\n",
    "    elif choicenum == 2:\n",
    "        choice = \"paper\"\n",
    "    else:\n",
    "        choice = \"scissors\"\n",
    "    return choice"
   ]
  },
  {
   "cell_type": "code",
   "execution_count": 48,
   "id": "1a3437d1-90df-4f41-bd1a-87604b91bf56",
   "metadata": {},
   "outputs": [],
   "source": [
    "# Determine the winner based on the rules:\n",
    "# Rock crushes Scissors\n",
    "# Scissors cuts Paper\n",
    "# Paper covers Rock\n",
    "def winner(p1, npc):\n",
    "    if p1 == \"rock\":\n",
    "        if npc == \"paper\":\n",
    "            print(f\"Computer chose Paper. \\n Paper covers Rock \\n Computer wins!\")\n",
    "            return False\n",
    "        else:\n",
    "            print(f\"Computer chose Scissors. \\n Rock crushes Scissors \\n You win!\")\n",
    "            return True\n",
    "    elif p1 == \"paper\":\n",
    "        if npc == \"rock\":\n",
    "            print(f\"Computer chose Rock. \\n Paper covers Rock \\n You win!\")\n",
    "            return True\n",
    "        else:\n",
    "            print(f\"Computer chose Scissors. \\n Scissors cuts Paper \\n Computer wins!\")\n",
    "            return False\n",
    "    else:\n",
    "        if npc == \"rock\":\n",
    "            print(f\"Computer chose Rock. \\n Rock crushes Scissors \\n Computer wins!\")\n",
    "            return False\n",
    "        else:\n",
    "            print(f\"Computer chose Paper. \\n Scissors cuts Paper \\n You win!\")\n",
    "            return True"
   ]
  },
  {
   "cell_type": "code",
   "execution_count": 52,
   "id": "8f592be4-9f15-432b-a175-4e5815c3bd15",
   "metadata": {},
   "outputs": [],
   "source": [
    "# Game\n",
    "def rockpaperscissors():\n",
    "    print(\"Let's play!\")\n",
    "    playerscores = {\n",
    "        \"wins\":0,\n",
    "        \"losses\":0,\n",
    "        \"ties\":0\n",
    "    }\n",
    "    while True:\n",
    "        p1 = playerchoice()\n",
    "        npc = npcchoice()\n",
    "        \n",
    "        if p1 == npc:\n",
    "            playerscores[\"ties\"] += 1\n",
    "            print(f\"You both chose {p1.capitalize()}, that's a tie!\")\n",
    "        else:\n",
    "            win = winner(p1, npc)\n",
    "            if win == True:\n",
    "                playerscores[\"wins\"] += 1\n",
    "            else:\n",
    "                playerscores[\"losses\"] += 1\n",
    "        print(f\"Current scores are: {playerscores}\")\n",
    "        playagain = \"\"\n",
    "        while playagain != \"y\" and playagain != \"n\":    \n",
    "            playagain = input(\"Play again? (y/n) \").lower()\n",
    "        if playagain == \"y\":\n",
    "            print(\"Yay, let's play again!\")\n",
    "        elif playagain == \"n\":\n",
    "            break"
   ]
  },
  {
   "cell_type": "code",
   "execution_count": 53,
   "id": "9eab47a7-83f8-4be0-b538-257dbe3c15e6",
   "metadata": {},
   "outputs": [
    {
     "name": "stdout",
     "output_type": "stream",
     "text": [
      "Let's play!\n"
     ]
    },
    {
     "name": "stdin",
     "output_type": "stream",
     "text": [
      "Rock, Paper, or Scissors?  paper\n"
     ]
    },
    {
     "name": "stdout",
     "output_type": "stream",
     "text": [
      "Computer chose Scissors. \n",
      " Scissors cuts Paper \n",
      " Computer wins!\n",
      "Current scores are: {'wins': 0, 'losses': 1, 'ties': 0}\n"
     ]
    },
    {
     "name": "stdin",
     "output_type": "stream",
     "text": [
      "Play again? (y/n)  y\n"
     ]
    },
    {
     "name": "stdout",
     "output_type": "stream",
     "text": [
      "Yay, let's play again!\n"
     ]
    },
    {
     "name": "stdin",
     "output_type": "stream",
     "text": [
      "Rock, Paper, or Scissors?  rock\n"
     ]
    },
    {
     "name": "stdout",
     "output_type": "stream",
     "text": [
      "Computer chose Scissors. \n",
      " Rock crushes Scissors \n",
      " You win!\n",
      "Current scores are: {'wins': 1, 'losses': 1, 'ties': 0}\n"
     ]
    },
    {
     "name": "stdin",
     "output_type": "stream",
     "text": [
      "Play again? (y/n)  y\n"
     ]
    },
    {
     "name": "stdout",
     "output_type": "stream",
     "text": [
      "Yay, let's play again!\n"
     ]
    },
    {
     "name": "stdin",
     "output_type": "stream",
     "text": [
      "Rock, Paper, or Scissors?  scissors\n"
     ]
    },
    {
     "name": "stdout",
     "output_type": "stream",
     "text": [
      "You both chose Scissors, that's a tie!\n",
      "Current scores are: {'wins': 1, 'losses': 1, 'ties': 1}\n"
     ]
    },
    {
     "name": "stdin",
     "output_type": "stream",
     "text": [
      "Play again? (y/n)  y\n"
     ]
    },
    {
     "name": "stdout",
     "output_type": "stream",
     "text": [
      "Yay, let's play again!\n"
     ]
    },
    {
     "name": "stdin",
     "output_type": "stream",
     "text": [
      "Rock, Paper, or Scissors?  paper\n"
     ]
    },
    {
     "name": "stdout",
     "output_type": "stream",
     "text": [
      "You both chose Paper, that's a tie!\n",
      "Current scores are: {'wins': 1, 'losses': 1, 'ties': 2}\n"
     ]
    },
    {
     "name": "stdin",
     "output_type": "stream",
     "text": [
      "Play again? (y/n)  y\n"
     ]
    },
    {
     "name": "stdout",
     "output_type": "stream",
     "text": [
      "Yay, let's play again!\n"
     ]
    },
    {
     "name": "stdin",
     "output_type": "stream",
     "text": [
      "Rock, Paper, or Scissors?  paper\n"
     ]
    },
    {
     "name": "stdout",
     "output_type": "stream",
     "text": [
      "Computer chose Scissors. \n",
      " Scissors cuts Paper \n",
      " Computer wins!\n",
      "Current scores are: {'wins': 1, 'losses': 2, 'ties': 2}\n"
     ]
    },
    {
     "name": "stdin",
     "output_type": "stream",
     "text": [
      "Play again? (y/n)  y\n"
     ]
    },
    {
     "name": "stdout",
     "output_type": "stream",
     "text": [
      "Yay, let's play again!\n"
     ]
    },
    {
     "name": "stdin",
     "output_type": "stream",
     "text": [
      "Rock, Paper, or Scissors?  paper\n"
     ]
    },
    {
     "name": "stdout",
     "output_type": "stream",
     "text": [
      "Computer chose Scissors. \n",
      " Scissors cuts Paper \n",
      " Computer wins!\n",
      "Current scores are: {'wins': 1, 'losses': 3, 'ties': 2}\n"
     ]
    },
    {
     "name": "stdin",
     "output_type": "stream",
     "text": [
      "Play again? (y/n)  y\n"
     ]
    },
    {
     "name": "stdout",
     "output_type": "stream",
     "text": [
      "Yay, let's play again!\n"
     ]
    },
    {
     "name": "stdin",
     "output_type": "stream",
     "text": [
      "Rock, Paper, or Scissors?  paper\n"
     ]
    },
    {
     "name": "stdout",
     "output_type": "stream",
     "text": [
      "Computer chose Scissors. \n",
      " Scissors cuts Paper \n",
      " Computer wins!\n",
      "Current scores are: {'wins': 1, 'losses': 4, 'ties': 2}\n"
     ]
    },
    {
     "name": "stdin",
     "output_type": "stream",
     "text": [
      "Play again? (y/n)  y\n"
     ]
    },
    {
     "name": "stdout",
     "output_type": "stream",
     "text": [
      "Yay, let's play again!\n"
     ]
    },
    {
     "name": "stdin",
     "output_type": "stream",
     "text": [
      "Rock, Paper, or Scissors?  paper\n"
     ]
    },
    {
     "name": "stdout",
     "output_type": "stream",
     "text": [
      "You both chose Paper, that's a tie!\n",
      "Current scores are: {'wins': 1, 'losses': 4, 'ties': 3}\n"
     ]
    },
    {
     "name": "stdin",
     "output_type": "stream",
     "text": [
      "Play again? (y/n)  y\n"
     ]
    },
    {
     "name": "stdout",
     "output_type": "stream",
     "text": [
      "Yay, let's play again!\n"
     ]
    },
    {
     "name": "stdin",
     "output_type": "stream",
     "text": [
      "Rock, Paper, or Scissors?  paper\n"
     ]
    },
    {
     "name": "stdout",
     "output_type": "stream",
     "text": [
      "Computer chose Scissors. \n",
      " Scissors cuts Paper \n",
      " Computer wins!\n",
      "Current scores are: {'wins': 1, 'losses': 5, 'ties': 3}\n"
     ]
    },
    {
     "name": "stdin",
     "output_type": "stream",
     "text": [
      "Play again? (y/n)  y\n"
     ]
    },
    {
     "name": "stdout",
     "output_type": "stream",
     "text": [
      "Yay, let's play again!\n"
     ]
    },
    {
     "name": "stdin",
     "output_type": "stream",
     "text": [
      "Rock, Paper, or Scissors?  paper\n"
     ]
    },
    {
     "name": "stdout",
     "output_type": "stream",
     "text": [
      "Computer chose Rock. \n",
      " Paper covers Rock \n",
      " You win!\n",
      "Current scores are: {'wins': 2, 'losses': 5, 'ties': 3}\n"
     ]
    },
    {
     "name": "stdin",
     "output_type": "stream",
     "text": [
      "Play again? (y/n)  y\n"
     ]
    },
    {
     "name": "stdout",
     "output_type": "stream",
     "text": [
      "Yay, let's play again!\n"
     ]
    },
    {
     "name": "stdin",
     "output_type": "stream",
     "text": [
      "Rock, Paper, or Scissors?  n\n"
     ]
    },
    {
     "name": "stdout",
     "output_type": "stream",
     "text": [
      "Invalid input. Please choose Rock, Paper, or Scissors!\n"
     ]
    },
    {
     "name": "stdin",
     "output_type": "stream",
     "text": [
      "Rock, Paper, or Scissors?  rock\n"
     ]
    },
    {
     "name": "stdout",
     "output_type": "stream",
     "text": [
      "Computer chose Paper. \n",
      " Paper covers Rock \n",
      " Computer wins!\n",
      "Current scores are: {'wins': 2, 'losses': 6, 'ties': 3}\n"
     ]
    },
    {
     "name": "stdin",
     "output_type": "stream",
     "text": [
      "Play again? (y/n)  n\n"
     ]
    }
   ],
   "source": [
    "rockpaperscissors()"
   ]
  }
 ],
 "metadata": {
  "kernelspec": {
   "display_name": "Python [conda env:base] *",
   "language": "python",
   "name": "conda-base-py"
  },
  "language_info": {
   "codemirror_mode": {
    "name": "ipython",
    "version": 3
   },
   "file_extension": ".py",
   "mimetype": "text/x-python",
   "name": "python",
   "nbconvert_exporter": "python",
   "pygments_lexer": "ipython3",
   "version": "3.12.7"
  }
 },
 "nbformat": 4,
 "nbformat_minor": 5
}
